{
 "cells": [
  {
   "cell_type": "code",
   "execution_count": 3,
   "metadata": {},
   "outputs": [],
   "source": [
    "import sys\n",
    "sys.path.append(\"./preprocessors\")\n",
    "from email_preprocess import preprocess"
   ]
  },
  {
   "cell_type": "code",
   "execution_count": 4,
   "metadata": {},
   "outputs": [
    {
     "name": "stdout",
     "output_type": "stream",
     "text": [
      "no. of Chris training emails: 7936\n",
      "no. of Sara training emails: 7884\n"
     ]
    }
   ],
   "source": [
    "# Get trainig features/labels and testing features/labels\n",
    "features_train, features_test, labels_train, labels_test = preprocess(\"./data/word_data.pkl\", \"./data/email_authors.pkl\")"
   ]
  },
  {
   "cell_type": "code",
   "execution_count": 5,
   "metadata": {},
   "outputs": [
    {
     "name": "stdout",
     "output_type": "stream",
     "text": [
      "Training features:  [[ 0.  0.  0. ...,  0.  0.  0.]\n",
      " [ 0.  0.  0. ...,  0.  0.  0.]\n",
      " [ 0.  0.  0. ...,  0.  0.  0.]\n",
      " [ 0.  0.  0. ...,  0.  0.  0.]\n",
      " [ 0.  0.  0. ...,  0.  0.  0.]]\n",
      "Training Labels:  [0, 1, 0, 1, 1]\n"
     ]
    }
   ],
   "source": [
    "# Word vector / consists of arrays of \n",
    "# one hot vectors of words present in an email\n",
    "print \"Training features: \", features_train[:5]\n",
    "print \"Training Labels: \", labels_train[:5]"
   ]
  },
  {
   "cell_type": "markdown",
   "metadata": {},
   "source": [
    "# Learning"
   ]
  },
  {
   "cell_type": "code",
   "execution_count": 11,
   "metadata": {},
   "outputs": [
    {
     "name": "stdout",
     "output_type": "stream",
     "text": [
      "[LibSVM]Training time:  180.354 s\n"
     ]
    }
   ],
   "source": [
    "from sklearn import svm\n",
    "import timeit\n",
    "# Init\n",
    "clf = svm.SVC(kernel='linear')\n",
    "# Train\n",
    "start = timeit.default_timer()\n",
    "clf.fit(features_train, labels_train)\n",
    "print \"Training time: \", round(timeit.default_timer()-start, 3), \"s\""
   ]
  },
  {
   "cell_type": "code",
   "execution_count": 13,
   "metadata": {},
   "outputs": [
    {
     "name": "stdout",
     "output_type": "stream",
     "text": [
      "Prediction time:  19.512 s\n"
     ]
    }
   ],
   "source": [
    "# Predict\n",
    "start = timeit.default_timer()\n",
    "predict = clf.predict(features_test)\n",
    "print \"Prediction time: \", round(timeit.default_timer()-start, 3), \"s\""
   ]
  },
  {
   "cell_type": "code",
   "execution_count": 29,
   "metadata": {},
   "outputs": [
    {
     "name": "stdout",
     "output_type": "stream",
     "text": [
      "Accuracy:  0.884527872582\n"
     ]
    }
   ],
   "source": [
    "# Accuracy\n",
    "from sklearn.metrics import accuracy_score\n",
    "print \"Accuracy: \", accuracy_score(clf.predict(features_test), labels_test)"
   ]
  },
  {
   "cell_type": "code",
   "execution_count": 30,
   "metadata": {},
   "outputs": [
    {
     "name": "stdout",
     "output_type": "stream",
     "text": [
      "Training time:  0.11 s\n",
      "Accuracy:  0.884527872582\n"
     ]
    }
   ],
   "source": [
    "# SVM with linear kernel and 1/100th data set\n",
    "clf2 = svm.SVC(kernel='linear')\n",
    "start = timeit.default_timer()\n",
    "clf2.fit(features_train[:len(features_train)/100], labels_train[:len(labels_train)/100])\n",
    "print \"Training time: \", round(timeit.default_timer()-start, 3), \"s\"\n",
    "print \"Accuracy: \", accuracy_score(clf2.predict(features_test), labels_test)"
   ]
  },
  {
   "cell_type": "code",
   "execution_count": 38,
   "metadata": {},
   "outputs": [
    {
     "name": "stdout",
     "output_type": "stream",
     "text": [
      "Training time:  0.148 s\n",
      "Accuracy:  0.616040955631\n"
     ]
    }
   ],
   "source": [
    "# SVM with RBF kernel and 1/100th data set\n",
    "clfRBF = svm.SVC(kernel='rbf')\n",
    "start = timeit.default_timer()\n",
    "clfRBF.fit(features_train[:len(features_train)/100], labels_train[:len(labels_train)/100])\n",
    "print \"Training time: \", round(timeit.default_timer()-start, 3), \"s\"\n",
    "print \"Accuracy: \", accuracy_score(clfRBF.predict(features_test), labels_test)"
   ]
  },
  {
   "cell_type": "code",
   "execution_count": 37,
   "metadata": {},
   "outputs": [
    {
     "name": "stdout",
     "output_type": "stream",
     "text": [
      "\n",
      "C:  1\n",
      "Training time:  0.129 s\n",
      "Accuracy:  0.616040955631\n",
      "\n",
      "C:  10\n",
      "Training time:  0.137 s\n",
      "Accuracy:  0.616040955631\n",
      "\n",
      "C:  100\n",
      "Training time:  0.114 s\n",
      "Accuracy:  0.616040955631\n",
      "\n",
      "C:  1000\n",
      "Training time:  0.106 s\n",
      "Accuracy:  0.821387940842\n",
      "\n",
      "C:  10000\n",
      "Training time:  0.109 s\n",
      "Accuracy:  0.892491467577\n",
      "\n",
      "C:  100000\n",
      "Training time:  0.112 s\n",
      "Accuracy:  0.860068259386\n"
     ]
    }
   ],
   "source": [
    "# Test various values of C to get optimal accuracy\n",
    "for i in range(6):\n",
    "    clfRBF = svm.SVC(kernel='rbf', C=(10**i))\n",
    "    start = timeit.default_timer()\n",
    "    clfRBF.fit(features_train[:len(features_train)/100], labels_train[:len(labels_train)/100])\n",
    "    print \"\\nC: \", (10**i)\n",
    "    print \"Training time: \", round(timeit.default_timer()-start, 3), \"s\"\n",
    "    print \"Accuracy: \", accuracy_score(clfRBF.predict(features_test), labels_test)"
   ]
  },
  {
   "cell_type": "code",
   "execution_count": null,
   "metadata": {
    "collapsed": true
   },
   "outputs": [],
   "source": []
  }
 ],
 "metadata": {
  "kernelspec": {
   "display_name": "Python 2",
   "language": "python",
   "name": "python2"
  },
  "language_info": {
   "codemirror_mode": {
    "name": "ipython",
    "version": 2
   },
   "file_extension": ".py",
   "mimetype": "text/x-python",
   "name": "python",
   "nbconvert_exporter": "python",
   "pygments_lexer": "ipython2",
   "version": "2.7.13"
  }
 },
 "nbformat": 4,
 "nbformat_minor": 2
}

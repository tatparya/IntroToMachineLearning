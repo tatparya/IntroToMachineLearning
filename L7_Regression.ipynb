{
 "cells": [
  {
   "cell_type": "code",
   "execution_count": 1,
   "metadata": {
    "collapsed": true
   },
   "outputs": [],
   "source": [
    "import sys\n",
    "import pickle\n",
    "sys.path.append('./preprocessors/')"
   ]
  },
  {
   "cell_type": "code",
   "execution_count": 2,
   "metadata": {
    "collapsed": true
   },
   "outputs": [],
   "source": [
    "from feature_format import featureFormat, targetFeatureSplit"
   ]
  },
  {
   "cell_type": "code",
   "execution_count": 3,
   "metadata": {
    "collapsed": true
   },
   "outputs": [],
   "source": [
    "dictionary = pickle.load(open(\"./final_project/final_project_dataset_modified.pkl\", \"r\"))"
   ]
  },
  {
   "cell_type": "code",
   "execution_count": 29,
   "metadata": {},
   "outputs": [
    {
     "name": "stdout",
     "output_type": "stream",
     "text": [
      "[600000.0, 1200000.0, 350000.0, 1500000.0, 325000.0, 2600000.0, 400000.0, 788750.0, 850000.0, 700000.0]\n",
      "[array([ 365788.]), array([ 267102.]), array([ 170941.]), array([ 243293.]), array([ 267093.]), array([ 370448.]), array([ 197091.]), array([ 288589.]), array([ 248546.]), array([ 257486.])]\n"
     ]
    }
   ],
   "source": [
    "features_list = [\"bonus\", \"salary\"]\n",
    "data = featureFormat(dictionary, features_list, remove_any_zeroes=True)\n",
    "sort_keys = './data/python2_lesson06_keys.pkl'\n",
    "target, features = targetFeatureSplit(data)\n",
    "print target[:10]\n",
    "print features[:10]"
   ]
  },
  {
   "cell_type": "code",
   "execution_count": 30,
   "metadata": {},
   "outputs": [],
   "source": [
    "from sklearn.cross_validation import train_test_split\n",
    "feature_train, feature_test, target_train, target_test = train_test_split(features, target, test_size=0.5, random_state=42)\n",
    "train_color = \"r\"\n",
    "test_color = \"b\""
   ]
  },
  {
   "cell_type": "code",
   "execution_count": 31,
   "metadata": {},
   "outputs": [
    {
     "data": {
      "text/plain": [
       "LinearRegression(copy_X=True, fit_intercept=True, n_jobs=1, normalize=False)"
      ]
     },
     "execution_count": 31,
     "metadata": {},
     "output_type": "execute_result"
    }
   ],
   "source": [
    "from sklearn import linear_model\n",
    "reg = linear_model.LinearRegression()\n",
    "reg.fit(feature_train, target_train)\n"
   ]
  },
  {
   "cell_type": "markdown",
   "metadata": {},
   "source": [
    "## Plot regression model"
   ]
  },
  {
   "cell_type": "code",
   "execution_count": 44,
   "metadata": {},
   "outputs": [
    {
     "data": {
      "image/png": "[encoded data removed]",
      "text/plain": [
       "<matplotlib.figure.Figure at 0x111f872d0>"
      ]
     },
     "metadata": {},
     "output_type": "display_data"
    },
    {
     "name": "stdout",
     "output_type": "stream",
     "text": [
      "[-102360.54329388]\n",
      "[ 5.44814029]\n"
     ]
    }
   ],
   "source": [
    "import matplotlib.pyplot as plt\n",
    "# plot test points\n",
    "for feature, target in zip(feature_test, target_test):\n",
    "    plt.scatter(feature, target, color=test_color)\n",
    "# plot training points\n",
    "for feature, target in zip(feature_train, target_train):\n",
    "    plt.scatter(feature, target, color=train_color)\n",
    "    \n",
    "# add legend title\n",
    "plt.scatter(feature_test[0], target_test[0], color=test_color, label=\"test\")\n",
    "plt.scatter(feature_train[0], target_train[0], color=train_color, label=\"train\")\n",
    "\n",
    "# plot the regression line\n",
    "try:\n",
    "    plt.plot(feature_test, reg.predict(feature_test))\n",
    "except NameError:\n",
    "    pass\n",
    "\n",
    "plt.xlabel(features_list[1])\n",
    "plt.ylabel(features_list[0])\n",
    "plt.legend()\n",
    "plt.show()\n",
    "\n",
    "print(reg.predict(0))\n",
    "slope = (reg.predict(10) - reg.predict(0))/10\n",
    "print slope"
   ]
  },
  {
   "cell_type": "code",
   "execution_count": 49,
   "metadata": {},
   "outputs": [
    {
     "name": "stdout",
     "output_type": "stream",
     "text": [
      "0.0455091926995\n",
      "-1.48499241737\n"
     ]
    }
   ],
   "source": [
    "print reg.score(feature_train, target_train)\n",
    "print reg.score(feature_test, target_test)"
   ]
  },
  {
   "cell_type": "markdown",
   "metadata": {},
   "source": [
    "## Compare Salary vs Long term bonus"
   ]
  },
  {
   "cell_type": "code",
   "execution_count": 53,
   "metadata": {},
   "outputs": [
    {
     "name": "stdout",
     "output_type": "stream",
     "text": [
      "[1200000.0, 1500000.0, 2600000.0, 850000.0, 700000.0, 1100000.0, 850000.0, 2000000.0, 250000.0, 1000000.0]\n",
      "[array([ 1586055.]), array([ 1617011.]), array([ 694862.]), array([ 831809.]), array([ 476451.]), array([ 1725545.]), array([ 540751.]), array([ 554422.]), array([ 180250.]), array([ 369721.])]\n"
     ]
    }
   ],
   "source": [
    "new_features_list = ['bonus','long_term_incentive']\n",
    "new_data = featureFormat(dictionary, new_features_list, remove_any_zeroes=True)\n",
    "target, features = targetFeatureSplit(new_data)\n",
    "print target[:10]\n",
    "print features[:10]\n",
    "feature_train, feature_test, target_train, target_test = train_test_split(features, target, test_size=0.5, random_state=42)\n",
    "train_color = \"r\"\n",
    "test_color = \"b\""
   ]
  },
  {
   "cell_type": "code",
   "execution_count": 54,
   "metadata": {},
   "outputs": [
    {
     "data": {
      "text/plain": [
       "LinearRegression(copy_X=True, fit_intercept=True, n_jobs=1, normalize=False)"
      ]
     },
     "execution_count": 54,
     "metadata": {},
     "output_type": "execute_result"
    }
   ],
   "source": [
    "newReg = linear_model.LinearRegression()\n",
    "newReg.fit(feature_train, target_train)"
   ]
  },
  {
   "cell_type": "code",
   "execution_count": 55,
   "metadata": {},
   "outputs": [
    {
     "data": {
      "image/png": "[encoded data removed]",
      "text/plain": [
       "<matplotlib.figure.Figure at 0x1118ea610>"
      ]
     },
     "metadata": {},
     "output_type": "display_data"
    },
    {
     "name": "stdout",
     "output_type": "stream",
     "text": [
      "[-102360.54329388]\n",
      "[ 5.44814029]\n"
     ]
    }
   ],
   "source": [
    "# plot test points\n",
    "for feature, target in zip(feature_test, target_test):\n",
    "    plt.scatter(feature, target, color=test_color)\n",
    "# plot training points\n",
    "for feature, target in zip(feature_train, target_train):\n",
    "    plt.scatter(feature, target, color=train_color)\n",
    "    \n",
    "# add legend title\n",
    "plt.scatter(feature_test[0], target_test[0], color=test_color, label=\"test\")\n",
    "plt.scatter(feature_train[0], target_train[0], color=train_color, label=\"train\")\n",
    "\n",
    "# plot the regression line\n",
    "try:\n",
    "    plt.plot(feature_test, reg.predict(feature_test))\n",
    "except NameError:\n",
    "    pass\n",
    "\n",
    "plt.xlabel(features_list[1])\n",
    "plt.ylabel(features_list[0])\n",
    "plt.legend()\n",
    "plt.show()\n",
    "\n",
    "print(reg.predict(0))\n",
    "slope = (reg.predict(10) - reg.predict(0))/10\n",
    "print slope"
   ]
  },
  {
   "cell_type": "code",
   "execution_count": 56,
   "metadata": {},
   "outputs": [
    {
     "name": "stdout",
     "output_type": "stream",
     "text": [
      "0.217085971258\n",
      "-0.59271289995\n"
     ]
    }
   ],
   "source": [
    "print newReg.score(feature_train, target_train)\n",
    "print newReg.score(feature_test, target_test)"
   ]
  },
  {
   "cell_type": "markdown",
   "metadata": {},
   "source": [
    "### Long term incentive is clearly a better feature, since we get a better score"
   ]
  },
  {
   "cell_type": "code",
   "execution_count": null,
   "metadata": {
    "collapsed": true
   },
   "outputs": [],
   "source": []
  }
 ],
 "metadata": {
  "kernelspec": {
   "display_name": "Python 2",
   "language": "python",
   "name": "python2"
  },
  "language_info": {
   "codemirror_mode": {
    "name": "ipython",
    "version": 2
   },
   "file_extension": ".py",
   "mimetype": "text/x-python",
   "name": "python",
   "nbconvert_exporter": "python",
   "pygments_lexer": "ipython2",
   "version": "2.7.13"
  }
 },
 "nbformat": 4,
 "nbformat_minor": 2
}

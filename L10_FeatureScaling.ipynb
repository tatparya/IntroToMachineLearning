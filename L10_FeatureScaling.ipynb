{
 "cells": [
  {
   "cell_type": "code",
   "execution_count": 5,
   "metadata": {
    "collapsed": true
   },
   "outputs": [],
   "source": [
    "import pickle\n",
    "import numpy\n",
    "import matplotlib.pyplot as plt\n",
    "import sys\n",
    "sys.path.append('./preprocessors/')\n",
    "from feature_format import featureFormat, targetFeatureSplit"
   ]
  },
  {
   "cell_type": "code",
   "execution_count": 6,
   "metadata": {
    "collapsed": true
   },
   "outputs": [],
   "source": [
    "def Draw(pred, features, poi, mark_poi=False, name=\"image.png\", f1_name=\"feature 1\", f2_name=\"feature 2\", centers=[]):\n",
    "    \"Plotting code to visualize cluster\"\n",
    "    \n",
    "    # plot each cluster with different color,\n",
    "    colors = [\"b\", \"c\", \"k\", \"m\", \"g\"]\n",
    "    for ii, pp in enumerate(pred):\n",
    "        plt.scatter(features[ii][0], features[ii][1], color=colors[pred[ii]])\n",
    "        \n",
    "    for ii, pp in centers:\n",
    "        plt.scatter(ii, pp, color=\"r\", marker=\"x\")\n",
    "        \n",
    "    # if you like, place red stars over point that are POIs\n",
    "    if mark_poi:\n",
    "        for ii, pp in enumerate(pred):\n",
    "            if poi[ii]:\n",
    "                plt.scatter(features[ii][0], features[ii][1], color=\"r\", marker=\"*\")\n",
    "                \n",
    "    plt.xlabel(f1_name)\n",
    "    plt.ylabel(f2_name)\n",
    "    plt.show()"
   ]
  },
  {
   "cell_type": "code",
   "execution_count": 7,
   "metadata": {},
   "outputs": [
    {
     "name": "stdout",
     "output_type": "stream",
     "text": [
      "POI:  [0.0, 0.0, 0.0, 0.0, 1.0]\n",
      "Finance_features:  [array([ 365788.,       0.]), array([  267102.,  6680544.]), array([  170941.,  4890344.]), array([      0.,  651850.]), array([  243293.,  5538001.])]\n"
     ]
    }
   ],
   "source": [
    "# load in the dict of dicts containing all the data on each person\n",
    "data_dict = pickle.load(open(\"./final_project/final_project_dataset.pkl\", \"r\"))\n",
    "# removing existing outlier\n",
    "data_dict.pop(\"TOTAL\", 0)\n",
    "\n",
    "feature1 = \"salary\"\n",
    "feature2 = \"exercised_stock_options\"\n",
    "feature3 = \"total_payments\"\n",
    "poi = \"poi\"\n",
    "features_list = [poi, feature1, feature2]\n",
    "feature_list2 = [poi, feature1, feature3]\n",
    "data = featureFormat(data_dict, features_list)\n",
    "data2 = featureFormat(data_dict, feature_list2)\n",
    "poi, finance_features = targetFeatureSplit(data)\n",
    "poi2, finance_features2 = targetFeatureSplit(data2)\n",
    "print \"POI: \", poi[:5]\n",
    "print \"Finance_features: \", finance_features[:5]"
   ]
  },
  {
   "cell_type": "code",
   "execution_count": 8,
   "metadata": {},
   "outputs": [
    {
     "data": {
      "image/png": "[encoded data removed]",
      "text/plain": [
       "<matplotlib.figure.Figure at 0x1099f5110>"
      ]
     },
     "metadata": {},
     "output_type": "display_data"
    }
   ],
   "source": [
    "for f1, f2 in finance_features:\n",
    "    plt.scatter(f1, f2)\n",
    "\n",
    "plt.show()"
   ]
  },
  {
   "cell_type": "markdown",
   "metadata": {},
   "source": [
    "## Clustering"
   ]
  },
  {
   "cell_type": "code",
   "execution_count": 9,
   "metadata": {},
   "outputs": [
    {
     "name": "stdout",
     "output_type": "stream",
     "text": [
      "[0 0 0 0 0 0 0 0 0 0 0 0 0 0 0 0 0 0 0 0 0 0 0 0 0 0 0 0 0 0 0 0 0 0 0 0 0\n",
      " 0 0 0 0 0 0 0 0 0 0 0 0 0 0 0 0 0 1 0 0 0 0 0 0 0 0 0 0 0 0 0 0 0 0 0 0 0\n",
      " 0 0 0 1 0 0 0 0 1 0 0 0 0 0 0 0 0 0 0 0 0 0 0 0 0 0 0 0 0 0 0 0 0 1 0 0 0\n",
      " 1 0 0 0 0 0 0 0 0 0 0 0 0]\n",
      "[[   200320.46218487   1507501.63865546]\n",
      " [   573218.8         23904558.        ]]\n"
     ]
    },
    {
     "data": {
      "image/png": "[encoded data removed]",
      "text/plain": [
       "<matplotlib.figure.Figure at 0x10e5bb350>"
      ]
     },
     "metadata": {},
     "output_type": "display_data"
    }
   ],
   "source": [
    "from sklearn.cluster import KMeans\n",
    "kmeans = KMeans(n_clusters=2, random_state=0)\n",
    "kmeans.fit_predict(finance_features)\n",
    "print kmeans.labels_\n",
    "print kmeans.cluster_centers_\n",
    "Draw(kmeans.labels_, finance_features, poi, mark_poi=False, f1_name=feature1, f2_name=feature2, centers=kmeans.cluster_centers_)"
   ]
  },
  {
   "cell_type": "markdown",
   "metadata": {},
   "source": [
    "### Increasing number of clusters"
   ]
  },
  {
   "cell_type": "code",
   "execution_count": 10,
   "metadata": {},
   "outputs": [
    {
     "name": "stdout",
     "output_type": "stream",
     "text": [
      "[1 4 0 1 0 1 1 1 0 1 1 1 1 1 1 1 1 1 1 1 1 0 1 1 1 1 1 1 1 1 1 1 1 1 1 1 0\n",
      " 1 1 1 0 1 1 1 1 1 1 1 0 1 1 1 1 0 3 1 1 1 1 1 1 1 1 1 1 1 1 1 1 4 1 1 1 0\n",
      " 1 1 1 2 1 1 0 1 2 1 1 1 1 1 1 1 1 0 1 1 1 1 1 0 4 0 1 1 1 1 1 1 4 3 1 4 4\n",
      " 2 1 1 1 1 1 1 1 0 1 0 1 1]\n",
      "[[   189806.93333333   4090557.66666667]\n",
      " [   190332.56122449    694683.76530612]\n",
      " [   597924.33333333  18136114.        ]\n",
      " [   536160.5         32557224.        ]\n",
      " [   389740.           8325886.83333333]]\n"
     ]
    },
    {
     "data": {
      "image/png": "[encoded data removed]",
      "text/plain": [
       "<matplotlib.figure.Figure at 0x10ea07650>"
      ]
     },
     "metadata": {},
     "output_type": "display_data"
    }
   ],
   "source": [
    "k2 = KMeans(n_clusters=5, random_state=0)\n",
    "k2.fit_predict(finance_features)\n",
    "print k2.labels_\n",
    "print k2.cluster_centers_\n",
    "Draw(k2.labels_, finance_features, poi, mark_poi=False, f1_name=feature1, f2_name=feature2, centers=k2.cluster_centers_)"
   ]
  },
  {
   "cell_type": "markdown",
   "metadata": {},
   "source": [
    "### Using total payments as feature 2"
   ]
  },
  {
   "cell_type": "markdown",
   "metadata": {
    "collapsed": true
   },
   "source": [
    "# Feature Scaling"
   ]
  },
  {
   "cell_type": "code",
   "execution_count": 13,
   "metadata": {},
   "outputs": [
    {
     "name": "stdout",
     "output_type": "stream",
     "text": [
      "[array([ 365788.,       0.]), array([  267102.,  6680544.]), array([  170941.,  4890344.]), array([      0.,  651850.]), array([  243293.,  5538001.])]\n",
      "[[ 0.76833493 -0.47538494]\n",
      " [ 0.2642916   0.84205408]\n",
      " [-0.22685518  0.48901706]\n",
      " [-1.09994428 -0.34683664]\n",
      " [ 0.14268603  0.61673849]]\n"
     ]
    }
   ],
   "source": [
    "from sklearn import preprocessing\n",
    "scaled_features = preprocessing.scale(finance_features)\n",
    "print finance_features[:5]\n",
    "print scaled_features[:5]"
   ]
  },
  {
   "cell_type": "code",
   "execution_count": 15,
   "metadata": {},
   "outputs": [
    {
     "name": "stdout",
     "output_type": "stream",
     "text": [
      "[0 0 0 0 0 0 0 0 0 0 0 0 0 0 0 0 0 0 0 0 0 0 0 0 0 0 0 0 0 0 0 0 0 0 0 0 0\n",
      " 0 0 0 0 0 0 0 0 0 0 0 0 0 0 0 0 0 1 0 0 0 0 0 0 0 0 0 0 0 0 0 0 0 0 0 0 0\n",
      " 0 0 0 1 0 0 0 0 1 0 0 0 0 0 0 0 0 0 0 0 0 0 0 0 0 0 0 0 0 0 0 0 0 1 0 0 1\n",
      " 1 0 0 0 0 0 0 0 0 0 0 0 0]\n",
      "[[-0.11404917 -0.193015  ]\n",
      " [ 2.24296703  3.79596161]]\n"
     ]
    },
    {
     "data": {
      "image/png": "[encoded data removed]",
      "text/plain": [
       "<matplotlib.figure.Figure at 0x10e8fb450>"
      ]
     },
     "metadata": {},
     "output_type": "display_data"
    }
   ],
   "source": [
    "k3 = KMeans(n_clusters=2, random_state=0)\n",
    "k3.fit_predict(scaled_features)\n",
    "print k3.labels_\n",
    "print k3.cluster_centers_\n",
    "Draw(k3.labels_, scaled_features, poi, mark_poi=False, f1_name=feature1, f2_name=feature2, centers=k3.cluster_centers_)"
   ]
  },
  {
   "cell_type": "code",
   "execution_count": null,
   "metadata": {
    "collapsed": true
   },
   "outputs": [],
   "source": []
  }
 ],
 "metadata": {
  "kernelspec": {
   "display_name": "Python 2",
   "language": "python",
   "name": "python2"
  },
  "language_info": {
   "codemirror_mode": {
    "name": "ipython",
    "version": 2
   },
   "file_extension": ".py",
   "mimetype": "text/x-python",
   "name": "python",
   "nbconvert_exporter": "python",
   "pygments_lexer": "ipython2",
   "version": "2.7.13"
  }
 },
 "nbformat": 4,
 "nbformat_minor": 2
}
